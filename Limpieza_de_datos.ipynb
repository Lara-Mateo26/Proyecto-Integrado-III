{
  "nbformat": 4,
  "nbformat_minor": 0,
  "metadata": {
    "colab": {
      "provenance": []
    },
    "kernelspec": {
      "name": "python3",
      "display_name": "Python 3"
    },
    "language_info": {
      "name": "python"
    }
  },
  "cells": [
    {
      "cell_type": "markdown",
      "source": [
        "**I. Descripción de Necesidades de Limpieza**\n",
        "\n",
        "\n",
        "- Para iniciar se necesita cambiar la codificación de los datos ya que la Ñ aparece con un simbolo extraño y las tildes igual remplazandolas por n y su letra sin tilde respectivamente\n",
        "\n",
        "- Luego se necesitan llenar los valores nulos, si son de texto quedarian \"Desconocidos\" y si son número quedan en 0 ya que no hay información de cuantos hubo en su momento o eran lineas que no habian sido creadas en su momento\n",
        "\n",
        "- mapeamos una columna nueva llamada \"CLIMA\" donde pondremos los meses secos y lluviosos de la ciudad de Medellín repartidos de la siguiente manera enero, febrero, diciembre, junio, julio y agosto (secos) y marzo, abril, mayo septiembre, octubre y noviembre (lluviosos)\n",
        "\n",
        "- mapeamos los eventos mas importantes de medellín, siendo enero - año nuevo, julio - feria de flores, agosto - feria de flores, septiembre - feria de la antioqueñidad, noviembre - alumbrados navideños y diciembre - navidad y alumbrados y a los meses no mencionados se llenaran sus nulos con \"Ningún evento importante\" y las ñ serán reemplazadas por n para evitar cualquier error\n",
        "\n",
        "- finalizamos cambiando el nombre del dataset por Pasajeros_movilizados(new) para saber que es el dataset nuevo con sus modificaciones"
      ],
      "metadata": {
        "id": "T8ch7CgLFqSB"
      }
    },
    {
      "cell_type": "markdown",
      "source": [
        "**II. Limpieza y Transformación de Datos**"
      ],
      "metadata": {
        "id": "CaTI16HrF4aI"
      }
    },
    {
      "cell_type": "markdown",
      "source": [
        "Importación de librerias necesarias"
      ],
      "metadata": {
        "id": "PALVpTxD6u9m"
      }
    },
    {
      "cell_type": "code",
      "source": [
        "!pip install chardet ftfy #Necesario para reemplazar los datos mal codificados en la base de datos"
      ],
      "metadata": {
        "colab": {
          "base_uri": "https://localhost:8080/"
        },
        "id": "TWRkKCIj6uc-",
        "outputId": "fe39e7cc-ac49-4c61-c7dc-83bfe1908c63"
      },
      "execution_count": 47,
      "outputs": [
        {
          "output_type": "stream",
          "name": "stdout",
          "text": [
            "Requirement already satisfied: chardet in /usr/local/lib/python3.11/dist-packages (5.2.0)\n",
            "Requirement already satisfied: ftfy in /usr/local/lib/python3.11/dist-packages (6.3.1)\n",
            "Requirement already satisfied: wcwidth in /usr/local/lib/python3.11/dist-packages (from ftfy) (0.2.13)\n"
          ]
        }
      ]
    },
    {
      "cell_type": "markdown",
      "source": [
        "Lectura de la base de datos"
      ],
      "metadata": {
        "id": "lgGy3LVC3K31"
      }
    },
    {
      "cell_type": "code",
      "source": [
        "import pandas as pd\n",
        "df = pd.read_csv('Pasajeros_movilizados.csv')"
      ],
      "metadata": {
        "id": "xAS8Mfc83Hmt"
      },
      "execution_count": 54,
      "outputs": []
    },
    {
      "cell_type": "markdown",
      "source": [
        "Organización de datos mal escritos en la descarga"
      ],
      "metadata": {
        "id": "BfTzDVW27RTW"
      }
    },
    {
      "cell_type": "code",
      "source": [
        "import chardet\n",
        "from ftfy import fix_text\n",
        "\n",
        "# 1. Detectar codificación real del archivo\n",
        "with open('Pasajeros_movilizados.csv', 'rb') as f:\n",
        "    rawdata = f.read()\n",
        "    encoding = chardet.detect(rawdata)['encoding']\n",
        "    print(f\"Codificación detectada: {encoding}\")\n",
        "\n",
        "# 2. Leer el archivo con la codificación detectada\n",
        "try:\n",
        "    df = pd.read_csv('Pasajeros_movilizados.csv', encoding=encoding)\n",
        "except UnicodeDecodeError:\n",
        "    # Si falla, probar con otras codificaciones comunes\n",
        "    for enc in ['latin1', 'cp1252', 'utf-8', 'utf-16']:\n",
        "        try:\n",
        "            df = pd.read_csv('Pasajeros_movilizados.csv', encoding=enc)\n",
        "            print(f\"Éxito con codificación: {enc}\")\n",
        "            break\n",
        "        except:\n",
        "            continue\n",
        "\n",
        "# 3. Corregir nombres de columnas (manualmente si es necesario)\n",
        "nuevos_nombres = {\n",
        "    'A�O': 'ANO',\n",
        "    'SEM_A�O': 'SEM_ANO',\n",
        "    'L�NEA_O': 'LINEA_O',\n",
        "    'A�O-MES': 'ANO_MES'\n",
        "}\n",
        "df = df.rename(columns=nuevos_nombres)\n",
        "\n",
        "# 4. Corregir texto en todas las celdas (opcional pero recomendado)\n",
        "df = df.applymap(lambda x: fix_text(x) if isinstance(x, str) else x)\n",
        "\n",
        "print(\"¡Archivo corregido exitosamente!\")\n",
        "print(\"Nombres de columnas actuales:\", df.columns.tolist())"
      ],
      "metadata": {
        "colab": {
          "base_uri": "https://localhost:8080/"
        },
        "id": "9TyTe9Hi7VZl",
        "outputId": "ebd22325-03df-42fd-c275-0c099b37671f"
      },
      "execution_count": 55,
      "outputs": [
        {
          "output_type": "stream",
          "name": "stdout",
          "text": [
            "Codificación detectada: utf-8\n",
            "¡Archivo corregido exitosamente!\n",
            "Nombres de columnas actuales: ['ANO', 'SEMESTRE', 'NUM_MES', 'MES', 'SEM_ANO', 'L-A_PAX_MOV', 'L-B_PAX_MOV', 'L-K_PAX_MOV', 'L-J_PAX_MOV', 'L-H_PAX_MOV', 'L-M_PAX_MOV', 'L-L_PAX_MOV', 'L-TA_PAX_MOV', 'L-1_PAX_MOV', 'L-2_PAX_MOV', 'C-3_PAX_MOV', 'C6_PAX_MOV', 'LINEA_O', 'ANO_MES', 'ORDEN']\n"
          ]
        },
        {
          "output_type": "stream",
          "name": "stderr",
          "text": [
            "<ipython-input-55-c0275f83a338>:33: FutureWarning: DataFrame.applymap has been deprecated. Use DataFrame.map instead.\n",
            "  df = df.applymap(lambda x: fix_text(x) if isinstance(x, str) else x)\n"
          ]
        }
      ]
    },
    {
      "cell_type": "markdown",
      "source": [
        "Limpieza de datos"
      ],
      "metadata": {
        "id": "pVTaAOOb5qS1"
      }
    },
    {
      "cell_type": "code",
      "source": [
        "#Mes en N/A por desconocido\n",
        "df['NUM_MES'] = df['NUM_MES'].fillna('Desconocido')\n",
        "df['MES'] = df['MES'].fillna('Desconocido')\n",
        "\n",
        "\n",
        "#Cambiar N/A por 0 en las lineas de metro\n",
        "# Identificar las columnas de pasajeros (todas las que terminan con _PAX_MOV)\n",
        "pax_columns = [col for col in df.columns if col.endswith('_PAX_MOV')]\n",
        "\n",
        "# Reemplazar valores nulos con 0 en estas columnas\n",
        "df[pax_columns] = df[pax_columns].fillna(0)\n",
        "df['LINEA_O'] = df['LINEA_O'].fillna('0')\n",
        "\n",
        "# Verificar que ya no hay nulos en estas columnas\n",
        "print(df[pax_columns].isnull().sum())"
      ],
      "metadata": {
        "colab": {
          "base_uri": "https://localhost:8080/"
        },
        "id": "qdXOwX5A5s0d",
        "outputId": "8194098b-9472-483a-f8ce-b637624a72fd"
      },
      "execution_count": 56,
      "outputs": [
        {
          "output_type": "stream",
          "name": "stdout",
          "text": [
            "L-A_PAX_MOV     0\n",
            "L-B_PAX_MOV     0\n",
            "L-K_PAX_MOV     0\n",
            "L-J_PAX_MOV     0\n",
            "L-H_PAX_MOV     0\n",
            "L-M_PAX_MOV     0\n",
            "L-L_PAX_MOV     0\n",
            "L-TA_PAX_MOV    0\n",
            "L-1_PAX_MOV     0\n",
            "L-2_PAX_MOV     0\n",
            "C-3_PAX_MOV     0\n",
            "C6_PAX_MOV      0\n",
            "dtype: int64\n"
          ]
        }
      ]
    },
    {
      "cell_type": "markdown",
      "source": [
        "Agregar nuevas filas\n",
        "Clima\n"
      ],
      "metadata": {
        "id": "6OJ--5v928Fl"
      }
    },
    {
      "cell_type": "code",
      "execution_count": 57,
      "metadata": {
        "colab": {
          "base_uri": "https://localhost:8080/"
        },
        "id": "UIH9CRRXySdX",
        "outputId": "f63369b8-3733-4caf-9012-0186703b791d"
      },
      "outputs": [
        {
          "output_type": "stream",
          "name": "stdout",
          "text": [
            "           MES   CLIMA\n",
            "0  Desconocido     NaN\n",
            "1  Desconocido     NaN\n",
            "2  Desconocido     NaN\n",
            "3  Desconocido     NaN\n",
            "4        enero    seco\n",
            "5      febrero    seco\n",
            "6        marzo  lluvia\n",
            "7        abril  lluvia\n",
            "8         mayo  lluvia\n",
            "9        junio    seco\n"
          ]
        }
      ],
      "source": [
        "# Diccionario para mapear meses a clima\n",
        "condiciones_clima = {\n",
        "    'enero': 'seco',\n",
        "    'febrero': 'seco',\n",
        "    'diciembre': 'seco',\n",
        "    'junio': 'seco',\n",
        "    'julio': 'seco',\n",
        "    'agosto': 'seco',\n",
        "    'marzo': 'lluvia',\n",
        "    'abril': 'lluvia',\n",
        "    'mayo': 'lluvia',\n",
        "    'septiembre': 'lluvia',\n",
        "    'octubre': 'lluvia',\n",
        "    'noviembre': 'lluvia'\n",
        "}\n",
        "\n",
        "# Crear la nueva columna 'Clima' basada en el diccionario\n",
        "df['CLIMA'] = df['MES'].map(condiciones_clima).fillna('Desconocido')\n",
        "\n",
        "df['CLIMA'] = df['MES'].map(condiciones_clima)\n",
        "\n",
        "# Verificar el resultado\n",
        "print(df[['MES', 'CLIMA']].head(10))"
      ]
    },
    {
      "cell_type": "markdown",
      "source": [
        "Agregar nuevas filas evento"
      ],
      "metadata": {
        "id": "N-wSHHM84rL0"
      }
    },
    {
      "cell_type": "code",
      "source": [
        "# Diccionario de eventos por mes (ejemplos basados en Medellín/Colombia)\n",
        "eventos_por_mes = {\n",
        "    'enero': 'ano nuevo',\n",
        "    'julio': 'feria de las flores',\n",
        "    'agosto': 'feria de las flores',\n",
        "    'septiembre': 'feria de la antioquenidad',\n",
        "    'noviembre': 'alumbrados navidenos',\n",
        "    'diciembre': 'navidad y alumbrados'\n",
        "}\n",
        "\n",
        "# Crear la columna 'Evento' basada en el diccionario\n",
        "df['EVENTO'] = df['MES'].map(eventos_por_mes)\n",
        "\n",
        "# Opcional: Rellenar meses sin evento con \"Ninguno\" o otro valor\n",
        "df['EVENTO'] = df['EVENTO'].fillna('ninguno importante')\n",
        "\n",
        "# Verificar el resultado\n",
        "print(df[['MES', 'EVENTO']].head(12))"
      ],
      "metadata": {
        "colab": {
          "base_uri": "https://localhost:8080/"
        },
        "id": "cDeJ2gTd4mnV",
        "outputId": "95b6446e-ed54-4253-e7bf-0ed481dc4f1e"
      },
      "execution_count": 58,
      "outputs": [
        {
          "output_type": "stream",
          "name": "stdout",
          "text": [
            "            MES               EVENTO\n",
            "0   Desconocido   ninguno importante\n",
            "1   Desconocido   ninguno importante\n",
            "2   Desconocido   ninguno importante\n",
            "3   Desconocido   ninguno importante\n",
            "4         enero            ano nuevo\n",
            "5       febrero   ninguno importante\n",
            "6         marzo   ninguno importante\n",
            "7         abril   ninguno importante\n",
            "8          mayo   ninguno importante\n",
            "9         junio   ninguno importante\n",
            "10        julio  feria de las flores\n",
            "11       agosto  feria de las flores\n"
          ]
        }
      ]
    },
    {
      "cell_type": "markdown",
      "source": [
        "Nuevo dataset"
      ],
      "metadata": {
        "id": "IKwy3155-W4m"
      }
    },
    {
      "cell_type": "code",
      "source": [
        "df.to_csv('Pasajeros_movilizados(new).csv', index=False)"
      ],
      "metadata": {
        "id": "TlY9bK0--UN-"
      },
      "execution_count": 59,
      "outputs": []
    },
    {
      "cell_type": "markdown",
      "source": [
        "**III. Validación:**\n",
        "\n",
        "Los cambios de este dataset han sido basicos, reemplazo de nulos y la creación de nuevas columnas, que nos ayudaran para las respuestas, de las preguntas en la actividad 1, logrando que se mantenga la misma granularidad de los datos y sus datos anteriores completamente limpios y sin errores *texto en cursiva*"
      ],
      "metadata": {
        "id": "onMHwcdaD35a"
      }
    }
  ]
}